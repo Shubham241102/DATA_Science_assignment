{
 "cells": [
  {
   "cell_type": "code",
   "execution_count": 1,
   "id": "1c4ddd54",
   "metadata": {},
   "outputs": [],
   "source": [
    "import pandas as pd\n",
    "import numpy as np\n",
    "import matplotlib.pyplot as plt\n",
    "import tensorflow as tf\n",
    "from tensorflow import keras"
   ]
  },
  {
   "cell_type": "code",
   "execution_count": 2,
   "id": "7acaf5a3",
   "metadata": {},
   "outputs": [],
   "source": [
    "df = keras.datasets.fashion_mnist\n",
    "(X_train_full,y_train_full),(X_test,y_test) = df.load_data()"
   ]
  },
  {
   "cell_type": "code",
   "execution_count": 3,
   "id": "dda705ec",
   "metadata": {},
   "outputs": [],
   "source": [
    "X_train_full = X_train_full.reshape((60000,28,28,1))\n",
    "X_test = X_test.reshape((10000,28,28,1))\n"
   ]
  },
  {
   "cell_type": "code",
   "execution_count": 4,
   "id": "237d0ffc",
   "metadata": {},
   "outputs": [],
   "source": [
    "class_names = ['Tshirt/top','Trousers','Pullover','Dress','Coat','Sandal','Shirt','Sneaker','Bag','Ankle Boot']"
   ]
  },
  {
   "cell_type": "code",
   "execution_count": 5,
   "id": "6db6b370",
   "metadata": {},
   "outputs": [],
   "source": [
    "X_train_n = X_train_full / 255\n",
    "X_test_n = X_test / 255"
   ]
  },
  {
   "cell_type": "code",
   "execution_count": 6,
   "id": "5ba19c6f",
   "metadata": {},
   "outputs": [],
   "source": [
    "X_valid , X_train = X_train_n[:5000] , X_train_n[5000:]\n",
    "y_valid , y_train = y_train_full[:5000] , y_train_full[5000:]\n",
    "X_test = X_test_n"
   ]
  },
  {
   "cell_type": "code",
   "execution_count": 7,
   "id": "32b412d1",
   "metadata": {},
   "outputs": [],
   "source": [
    "np.random.seed(42)\n",
    "tf.random.set_seed(42)"
   ]
  },
  {
   "cell_type": "code",
   "execution_count": 8,
   "id": "dcd1cbdc",
   "metadata": {},
   "outputs": [],
   "source": [
    "model = keras.models.Sequential()\n",
    "model.add(keras.layers.Conv2D(filters=32,kernel_size=(3,3),strides=1,padding ='valid',activation='relu',input_shape=(28,28,1)))\n",
    "model.add(keras.layers.MaxPooling2D((2,2)))\n",
    "model.add(keras.layers.Flatten())\n",
    "model.add(keras.layers.Dense(300,activation='relu'))\n",
    "model.add(keras.layers.Dense(100,activation='relu'))\n",
    "model.add(keras.layers.Dense(10,activation='softmax'))"
   ]
  },
  {
   "cell_type": "code",
   "execution_count": 9,
   "id": "0966d13e",
   "metadata": {},
   "outputs": [
    {
     "name": "stdout",
     "output_type": "stream",
     "text": [
      "Model: \"sequential\"\n",
      "_________________________________________________________________\n",
      " Layer (type)                Output Shape              Param #   \n",
      "=================================================================\n",
      " conv2d (Conv2D)             (None, 26, 26, 32)        320       \n",
      "                                                                 \n",
      " max_pooling2d (MaxPooling2  (None, 13, 13, 32)        0         \n",
      " D)                                                              \n",
      "                                                                 \n",
      " flatten (Flatten)           (None, 5408)              0         \n",
      "                                                                 \n",
      " dense (Dense)               (None, 300)               1622700   \n",
      "                                                                 \n",
      " dense_1 (Dense)             (None, 100)               30100     \n",
      "                                                                 \n",
      " dense_2 (Dense)             (None, 10)                1010      \n",
      "                                                                 \n",
      "=================================================================\n",
      "Total params: 1654130 (6.31 MB)\n",
      "Trainable params: 1654130 (6.31 MB)\n",
      "Non-trainable params: 0 (0.00 Byte)\n",
      "_________________________________________________________________\n"
     ]
    }
   ],
   "source": [
    "model.summary()"
   ]
  },
  {
   "cell_type": "code",
   "execution_count": 10,
   "id": "6f3dd007",
   "metadata": {},
   "outputs": [],
   "source": [
    "model.compile(loss='sparse_categorical_crossentropy',optimizer='sgd',metrics=['accuracy'])"
   ]
  },
  {
   "cell_type": "code",
   "execution_count": 11,
   "id": "cc7c35f6",
   "metadata": {},
   "outputs": [
    {
     "name": "stdout",
     "output_type": "stream",
     "text": [
      "Epoch 1/10\n",
      "860/860 [==============================] - 20s 23ms/step - loss: 0.8430 - accuracy: 0.7115 - val_loss: 0.7993 - val_accuracy: 0.7136\n",
      "Epoch 2/10\n",
      "860/860 [==============================] - 19s 22ms/step - loss: 0.5328 - accuracy: 0.8080 - val_loss: 0.4877 - val_accuracy: 0.8152\n",
      "Epoch 3/10\n",
      "860/860 [==============================] - 20s 23ms/step - loss: 0.4748 - accuracy: 0.8282 - val_loss: 1.0102 - val_accuracy: 0.6980\n",
      "Epoch 4/10\n",
      "860/860 [==============================] - 20s 23ms/step - loss: 0.4379 - accuracy: 0.8447 - val_loss: 0.4052 - val_accuracy: 0.8610\n",
      "Epoch 5/10\n",
      "860/860 [==============================] - 20s 23ms/step - loss: 0.4138 - accuracy: 0.8512 - val_loss: 0.4189 - val_accuracy: 0.8522\n",
      "Epoch 6/10\n",
      "860/860 [==============================] - 20s 24ms/step - loss: 0.3901 - accuracy: 0.8596 - val_loss: 0.3673 - val_accuracy: 0.8738\n",
      "Epoch 7/10\n",
      "860/860 [==============================] - 20s 23ms/step - loss: 0.3730 - accuracy: 0.8664 - val_loss: 0.4100 - val_accuracy: 0.8558\n",
      "Epoch 8/10\n",
      "860/860 [==============================] - 22s 25ms/step - loss: 0.3588 - accuracy: 0.8707 - val_loss: 0.5163 - val_accuracy: 0.8138\n",
      "Epoch 9/10\n",
      "860/860 [==============================] - 21s 25ms/step - loss: 0.3464 - accuracy: 0.8733 - val_loss: 0.3668 - val_accuracy: 0.8700\n",
      "Epoch 10/10\n",
      "860/860 [==============================] - 21s 24ms/step - loss: 0.3351 - accuracy: 0.8784 - val_loss: 0.3703 - val_accuracy: 0.8626\n"
     ]
    }
   ],
   "source": [
    "model_history = model.fit(X_train,y_train,epochs=10,batch_size=64,validation_data=(X_valid,y_valid))\n"
   ]
  },
  {
   "cell_type": "code",
   "execution_count": 12,
   "id": "260acfd4",
   "metadata": {},
   "outputs": [
    {
     "data": {
      "image/png": "[encoded data removed]",
      "text/plain": [
       "<Figure size 800x500 with 1 Axes>"
      ]
     },
     "metadata": {},
     "output_type": "display_data"
    }
   ],
   "source": [
    "pd.DataFrame(model_history.history).plot(figsize=(8,5))\n",
    "plt.grid(True)\n",
    "plt.gca().set_ylim(0,1)\n",
    "plt.show()"
   ]
  },
  {
   "cell_type": "code",
   "execution_count": 13,
   "id": "f250be0a",
   "metadata": {},
   "outputs": [
    {
     "name": "stdout",
     "output_type": "stream",
     "text": [
      "313/313 [==============================] - 2s 5ms/step - loss: 0.4009 - accuracy: 0.8495\n"
     ]
    }
   ],
   "source": [
    "ev = model.evaluate(X_test , y_test)"
   ]
  },
  {
   "cell_type": "code",
   "execution_count": 14,
   "id": "e831c292",
   "metadata": {},
   "outputs": [
    {
     "data": {
      "text/plain": [
       "[0.400869756937027, 0.8495000004768372]"
      ]
     },
     "execution_count": 14,
     "metadata": {},
     "output_type": "execute_result"
    }
   ],
   "source": [
    "ev"
   ]
  },
  {
   "cell_type": "code",
   "execution_count": 15,
   "id": "abbd1ebc",
   "metadata": {},
   "outputs": [
    {
     "name": "stdout",
     "output_type": "stream",
     "text": [
      "1/1 [==============================] - 0s 105ms/step\n"
     ]
    },
    {
     "data": {
      "text/plain": [
       "array([9, 2, 1], dtype=int64)"
      ]
     },
     "execution_count": 15,
     "metadata": {},
     "output_type": "execute_result"
    }
   ],
   "source": [
    "X_new = X_test[:3]\n",
    "y_pred    = model.predict(X_new)\n",
    "classes_y = np.argmax(y_pred,axis=1)\n",
    "classes_y"
   ]
  },
  {
   "cell_type": "code",
   "execution_count": 22,
   "id": "29e8d3f4",
   "metadata": {},
   "outputs": [
    {
     "data": {
      "text/plain": [
       "'Pullover'"
      ]
     },
     "execution_count": 22,
     "metadata": {},
     "output_type": "execute_result"
    }
   ],
   "source": [
    "class_names[classes_y[1]]"
   ]
  },
  {
   "cell_type": "code",
   "execution_count": 25,
   "id": "8fb79889",
   "metadata": {},
   "outputs": [
    {
     "data": {
      "text/plain": [
       "<matplotlib.image.AxesImage at 0x17596b63910>"
      ]
     },
     "execution_count": 25,
     "metadata": {},
     "output_type": "execute_result"
    },
    {
     "data": {
      "image/png": "[encoded data removed]",
      "text/plain": [
       "<Figure size 640x480 with 1 Axes>"
      ]
     },
     "metadata": {},
     "output_type": "display_data"
    }
   ],
   "source": [
    "plt.imshow(X_test[1].reshape(28,28))"
   ]
  },
  {
   "cell_type": "code",
   "execution_count": 26,
   "id": "dac1f4e1",
   "metadata": {},
   "outputs": [
    {
     "data": {
      "text/plain": [
       "<function keras.src.backend.clear_session()>"
      ]
     },
     "execution_count": 26,
     "metadata": {},
     "output_type": "execute_result"
    }
   ],
   "source": [
    "keras.backend.clear_session"
   ]
  },
  {
   "cell_type": "code",
   "execution_count": null,
   "id": "ed075c1e",
   "metadata": {},
   "outputs": [],
   "source": []
  }
 ],
 "metadata": {
  "kernelspec": {
   "display_name": "Python 3 (ipykernel)",
   "language": "python",
   "name": "python3"
  },
  "language_info": {
   "codemirror_mode": {
    "name": "ipython",
    "version": 3
   },
   "file_extension": ".py",
   "mimetype": "text/x-python",
   "name": "python",
   "nbconvert_exporter": "python",
   "pygments_lexer": "ipython3",
   "version": "3.11.2"
  }
 },
 "nbformat": 4,
 "nbformat_minor": 5
}
